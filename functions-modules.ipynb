{
 "cells": [
  {
   "cell_type": "markdown",
   "metadata": {},
   "source": [
    "# Functions, modules, packages and libraries"
   ]
  },
  {
   "cell_type": "markdown",
   "metadata": {},
   "source": [
    "There are many different types of programmers.\n",
    "Take, for example, the area of self-driving cars.\n",
    "We can think of a variety of people who write different types of programs in that industry.\n",
    "\n",
    "There are programmers who work in the low-levels of the car technologies, such as ABS brakes that prevent skidding.\n",
    "ABS brakes require small, special-purpose chips that read the outputs of sensors related to the brakes in your car and make decisions based on them.\n",
    "Somebody must write the code to run on those chips.\n",
    "In fact, there won't be just one person but a team of people, a team of specialised programmers.\n",
    "\n",
    "A different team of will be responsible for automating the systems that drive the car.\n",
    "They will write the higher-level software that makes softer decisions like whether a stray dog is likely to run in front of the car or not.\n",
    "The software will decide what angle to turn the steering wheel or how hard to push the accelerator.\n",
    "This team will rely at least partly on the team that program the low-level devices - their software will be based on a range of data coming from the lower levels.\n",
    "They'll have a different skillset and a different focus.\n",
    "Because of this, it's essential that the interface between the teams is well managed.\n",
    "That is, there must be clear lines of responsibility and communication between the teams.\n",
    "\n",
    "There are likely to be many other teams too.\n",
    "The automation team's work will be based on research.\n",
    "In companies, researchers tend to be a different group of people to the software developers.\n",
    "Programming for research tends to be bespoke, fast and ready.\n",
    "Research goals are typically scientific, statistical results.\n",
    "Researchers are typically not too concerned with writing reusable, user-friendly software.\n",
    "When a researcher writes code, they are usually the only person to ever run it and they essentially only run it once.\n",
    "\n",
    "Yet another team might take data from the car and combine it with data from all the other cars to analyse it.\n",
    "They'll be looking for anomalies that might be dangerous or performance metrics to see can they improve the car.\n",
    "\n",
    "All these teams must work together in an environment where they have different aims, constraints and issues.\n",
    "Over many decades the computing industry has elicited some basic principles for code writing.\n",
    "These make programming a little easier, a bit more efficient, and a lot safer for everyone involved.\n",
    "In what follows we'll touch on a couple of these principles."
   ]
  },
  {
   "cell_type": "markdown",
   "metadata": {},
   "source": [
    "## Reusability\n",
    "\n",
    "The basic principle guiding most programming work is reusability.\n",
    "There are numerous buzzwords and phrases related to reusability, such as Don't Repeat Yourself (DRY).\n",
    "The idea is that you avoid re-writing the same or similar code in different parts of your program.\n",
    "Rather, you write the code once, give it a name, and then use it by name from then on.\n",
    "\n",
    "For example, let's say you have many occasions to calculate the factorial of a positive integer. That's not functionality that's typically built-in to a programming language in Python, and you must write a few statements to do it. "
   ]
  },
  {
   "cell_type": "code",
   "execution_count": 1,
   "metadata": {},
   "outputs": [
    {
     "name": "stdout",
     "output_type": "stream",
     "text": [
      "3628800\n"
     ]
    }
   ],
   "source": [
    "# Calculate 10 factorial.\n",
    "factorial10 = 1\n",
    "for i in range(1, 11):\n",
    "    factorial10 = factorial10 * i\n",
    "print(factorial10)"
   ]
  },
  {
   "cell_type": "markdown",
   "metadata": {},
   "source": [
    "This code calculates only the factorial of 10. If you want to calculate the factorial of 11, then you need to write code that is highly similar."
   ]
  },
  {
   "cell_type": "code",
   "execution_count": 2,
   "metadata": {},
   "outputs": [
    {
     "name": "stdout",
     "output_type": "stream",
     "text": [
      "39916800\n"
     ]
    }
   ],
   "source": [
    "# Calculate 11 factorial.\n",
    "factorial11 = 1\n",
    "for i in range(1, 12):\n",
    "    factorial11 = factorial11 * i\n",
    "print(factorial11)"
   ]
  },
  {
   "cell_type": "markdown",
   "metadata": {},
   "source": [
    "## Functions\n",
    "\n",
    "Programmers hate this kind of duplication for many reasons.\n",
    "One is that if you find a bug in your factorial-calculating code then you must change the code everywhere it's written.\n",
    "Likewise, should you find a better and more efficient way to calculate the factorial of a number. \n",
    "To avoid this, we write a function with clearly defined inputs and output."
   ]
  },
  {
   "cell_type": "code",
   "execution_count": 3,
   "metadata": {},
   "outputs": [],
   "source": [
    "def factorial(n):\n",
    "    \"\"\"Return the factorial of n.\"\"\"\n",
    "    ans = 1\n",
    "    for i in range(1, n + 1):\n",
    "        ans = ans * i\n",
    "    return ans"
   ]
  },
  {
   "cell_type": "markdown",
   "metadata": {},
   "source": [
    "Now you can call the code using its name and use it to calculate any factorial."
   ]
  },
  {
   "cell_type": "code",
   "execution_count": 4,
   "metadata": {},
   "outputs": [
    {
     "name": "stdout",
     "output_type": "stream",
     "text": [
      "3628800\n",
      "39916800\n"
     ]
    }
   ],
   "source": [
    "print(factorial(10))\n",
    "print(factorial(11))"
   ]
  },
  {
   "cell_type": "markdown",
   "metadata": {},
   "source": [
    "Let's say you use this factorial function lots of times in your code, and then realise could make the function more efficient.\n",
    "For instance, our function multiplies `ans` by 1 in the first iteration of the `for` loop, which has no effect.\n",
    "We can change `range(1, n + 1)` to `range(2, n + 1)` which will give the same result with less iterations.\n",
    "Since we've written it as a function, we can just change the code in one place.\n",
    "It will automatically filter through to all the places where we have called the function."
   ]
  },
  {
   "cell_type": "code",
   "execution_count": 5,
   "metadata": {},
   "outputs": [],
   "source": [
    "def factorial(n):\n",
    "    \"\"\"Return the factorial of n.\"\"\"\n",
    "    ans = 1\n",
    "    for i in range(2, n + 1):\n",
    "        ans = ans * i\n",
    "    return ans"
   ]
  },
  {
   "cell_type": "markdown",
   "metadata": {},
   "source": [
    "The following code, which is the same code from before, gives the same result but it now works more efficiently."
   ]
  },
  {
   "cell_type": "code",
   "execution_count": 6,
   "metadata": {},
   "outputs": [
    {
     "name": "stdout",
     "output_type": "stream",
     "text": [
      "3628800\n",
      "39916800\n"
     ]
    }
   ],
   "source": [
    "print(factorial(10))\n",
    "print(factorial(11))"
   ]
  },
  {
   "cell_type": "markdown",
   "metadata": {},
   "source": [
    "## Over-abstraction\n",
    "\n",
    "When you get the hang of functions, it's natural to start turning everything into a function.\n",
    "There is a temptation to start adding bells and whistles too.\n",
    "It turns out that you can take it too far.\n",
    "\n",
    "Let's write a simple (and largely unnecessary) function to square a number.\n",
    "Note that Python has a power operator built-in: `10**2` gives `100`.\n",
    "We won't use that here - imagine it doesn't exist for now."
   ]
  },
  {
   "cell_type": "code",
   "execution_count": 7,
   "metadata": {},
   "outputs": [],
   "source": [
    "def square(x):\n",
    "    \"\"\"Return the square of x.\"\"\"\n",
    "    return x * x"
   ]
  },
  {
   "cell_type": "code",
   "execution_count": 8,
   "metadata": {},
   "outputs": [
    {
     "name": "stdout",
     "output_type": "stream",
     "text": [
      "121\n"
     ]
    }
   ],
   "source": [
    "print(square(11))"
   ]
  },
  {
   "cell_type": "markdown",
   "metadata": {},
   "source": [
    "Now, let's say you also need a function to cube a number."
   ]
  },
  {
   "cell_type": "code",
   "execution_count": 9,
   "metadata": {},
   "outputs": [],
   "source": [
    "def cube(x):\n",
    "    \"\"\"Return the cube of x.\"\"\"\n",
    "    return x * x * x"
   ]
  },
  {
   "cell_type": "code",
   "execution_count": 10,
   "metadata": {},
   "outputs": [
    {
     "name": "stdout",
     "output_type": "stream",
     "text": [
      "1331\n"
     ]
    }
   ],
   "source": [
    "print(cube(11))"
   ]
  },
  {
   "cell_type": "markdown",
   "metadata": {},
   "source": [
    "Here's an idea: let's write a power function that not only squares and cubes but can raise any number to any (positive integer) power."
   ]
  },
  {
   "cell_type": "code",
   "execution_count": 11,
   "metadata": {},
   "outputs": [],
   "source": [
    "def power(x, y):\n",
    "    \"\"\"Return x to the power of y.\"\"\"\n",
    "    ans = x\n",
    "    for i in range(y - 1):\n",
    "        ans = ans * x\n",
    "    return ans"
   ]
  },
  {
   "cell_type": "code",
   "execution_count": 12,
   "metadata": {},
   "outputs": [
    {
     "name": "stdout",
     "output_type": "stream",
     "text": [
      "121\n",
      "1331\n"
     ]
    }
   ],
   "source": [
    "print(power(11, 2))\n",
    "print(power(11, 3))"
   ]
  },
  {
   "cell_type": "markdown",
   "metadata": {},
   "source": [
    "In some ways this is better.\n",
    "We now have one function instead of two and we are looking super-DRY since we have removed some duplication of code.\n",
    "However, there are trade-offs to consider.\n",
    "\n",
    "First, the `power` function is a little more complex to use than each of the `square` and `cube` functions.\n",
    "We might be more likely to get confused when using it.\n",
    "Say I've had too much coffee (quite likely) and I incorrectly use the function as `power(2, 10)` when what I meant to write was `power(10, 2)` to get `100`.\n",
    "That wouldn't have happened if I was using `square` instead, as it only takes one argument.\n",
    "Of course, you can write `square` and `cube` in terms of `power` if you want."
   ]
  },
  {
   "cell_type": "code",
   "execution_count": 13,
   "metadata": {},
   "outputs": [
    {
     "name": "stdout",
     "output_type": "stream",
     "text": [
      "100\n",
      "1000\n"
     ]
    }
   ],
   "source": [
    "def square(x):\n",
    "    \"\"\"Returns the square of x.\"\"\"\n",
    "    return power(x, 2)\n",
    "\n",
    "def cube(x):\n",
    "    \"\"\"Returns the cube of x.\"\"\"\n",
    "    return power(x, 3)\n",
    "\n",
    "print(square(10))\n",
    "print(cube(10))"
   ]
  },
  {
   "cell_type": "markdown",
   "metadata": {},
   "source": [
    "Another trade-off is the efficiency of the code.\n",
    "Loops are typically costly operations in programming - they take a little while to get going and complete.\n",
    "The original `square` and `cube` functions don't use loops.\n",
    "The `power` function does, and therefore the second versions of `square` and `cube` that are based on it do too.\n",
    "You should consider how many times you will likely call the functions.\n",
    "If you use them once every so often, then the (possible) slight inefficiency won't matter.\n",
    "On the other hand, if you're calling them 1,000 times a second it might."
   ]
  },
  {
   "cell_type": "markdown",
   "metadata": {},
   "source": [
    "The keyword here is abstraction.\n",
    "When we wrote our `factorial` function, we abstracted the idea of multiplying a number by all the numbers less than it.\n",
    "The factorial function is a high-level concept, an abstraction.\n",
    "Likewise, when we wrote our `power` function we abstracted the idea of multiplying a number by itself several times.\n",
    "We added another layer of abstraction when we re-wrote the square and cube functions to use the `power` function.\n",
    "\n",
    "We've seen a couple of downsides of using abstractions - the complexity and the possible inefficiency.\n",
    "Unfortunately, there's no one-size-fits-all rule as to when to when you should and shouldn't abstract.\n",
    "It might help to avoid considering whether abstraction is good or bad.\n",
    "Rather, think of it as tool that can be used when it helps.\n",
    "This is where programming becomes a bit of an art."
   ]
  },
  {
   "cell_type": "markdown",
   "metadata": {},
   "source": [
    "## Modules and packages\n",
    "\n",
    "Another benefit of writing our code in functions is that we can share them with our collaborators.\n",
    "Modern programming is fundamentally based on this idea.\n",
    "There are not too many people who know how to program everything from the ground up.\n",
    "Rather, people specialise in one aspect of programming and share their work with others\n",
    "\n",
    "Functions enable this by hiding the details under their hood.\n",
    "To use a function, it's enough to know what it does, what inputs it expects and what output it gives.\n",
    "How it does it is can often be left to someone else.\n",
    "This is sometimes called the *black box* view of functions.\n",
    "\n",
    "This is a useful concept and modern programming is largely based on it.\n",
    "A typical program will be built from lots of functions, often written by lots of different people.\n",
    "We can write a bunch of useful functions in a single file and pass the file around to our friends so that they can use our functions.\n",
    "Python calls these kinds of files modules.\n",
    "\n",
    "Modules are normal Python scripts that can be run through Python just like any other script.\n",
    "The difference is in their intended use.\n",
    "Modules are scripts that don't really do anything by themselves - they're meant for use in other programs.\n",
    "Remember all the programmers and teams involved in self-driving cars?\n",
    "Modules allow them to each write individual parts of the final code that can then joined up into one final automated driving program.\n",
    "Modules themselves can be organised in packages, which are essentially folders containing modules."
   ]
  },
  {
   "cell_type": "markdown",
   "metadata": {},
   "source": [
    "Modules and packages turn out to be useful for lots of reasons.\n",
    "When working collaboratively, it's convenient that different programmers can work on small parts of the code organised in separate files.\n",
    "This helps to avoid problems (sometimes called conflicts) where two programmers edit the same part of the same file at the same time and the computer doesn't know which version of the code to keep.\n",
    "\n",
    "Modules also provide an easy solution to re-use the same code in different programs.\n",
    "There are usually some parts of programs that we write that can be re-used in other programs, while there are some parts that are unlikely to be re-used.\n",
    "If we separate the re-usable parts into a module, we can include just those parts in both programs.\n",
    "\n",
    "To find out more about modules, including how to write your own, you can consult [part 6 of the Python tutorial](https://docs.python.org/3.5/tutorial/modules.html)."
   ]
  },
  {
   "cell_type": "markdown",
   "metadata": {},
   "source": [
    "## Libraries\n",
    "\n",
    "Over time the programming community at large have realised that there are vast swathes of re-usable functionality.\n",
    "This has led to the creation of libraries of packages, modules and functions that are freely available for incorporation into your own programs.\n",
    "\n",
    "One important library is (nearly) always installed alongside Python itself, and it is called the standard library.\n",
    "It contains functions that are commonly used in programs, but not often enough to be in included directly as part of Python itself.\n",
    "Generally, they try to keep Python lean, without all the extra functions unless they're needed.\n",
    "\n",
    "To use modules from the standard library you must first tell Python that you plan to use them.\n",
    "You do this using the `import` keyword.\n",
    "This incurs a slight cost, but you get the extra functionality.\n",
    "It turns out there's a function to calculate factorials in the standard library."
   ]
  },
  {
   "cell_type": "code",
   "execution_count": 14,
   "metadata": {},
   "outputs": [
    {
     "name": "stdout",
     "output_type": "stream",
     "text": [
      "3628800\n"
     ]
    }
   ],
   "source": [
    "import math\n",
    "\n",
    "print(math.factorial(10))"
   ]
  },
  {
   "cell_type": "markdown",
   "metadata": {},
   "source": [
    "Note the use of the `math` name in front of `factorial` function.\n",
    "This tells Python that the function is in the `math` module, rather than the current file we are writing in.\n",
    "We must have imported `math` somewhere previously in the current file, otherwise Python will give us an error to tell us it doesn't know what `math` is.\n",
    "When Python was installed on our computer it installed the math module and configured itself to know where it is.\n",
    "It can be in a different location depending on your own system, but we don't have to worry about it because the Python installer took care of it.\n",
    "\n",
    "(I'm glossing over quite a few technicalities here, but they're not important for this discussion. The math module is, in fact, a special module that isn't even written in Python, but that idea isn't relevant here. The only reason I mention it is that if you go looking for math.py on your system you won't find it. A module you can go looking for on your own system is `os`. It helps you access underlying Windows/MacOS/Linux functionality on your system. You can view the file online [here](https://svn.python.org/projects/python/trunk/Lib/os.py), just to convince you that it's a bunch of Python code that someone else wrote.)"
   ]
  },
  {
   "cell_type": "markdown",
   "metadata": {},
   "source": [
    "## Other useful modules\n",
    "\n",
    "It turns out that while it's important to know the Python fundamentals, most programmers rarely write code from scratch. Rather they use other people's code as their building blocks. Aside from the modules provide in the standard library, there are many useful ones that are provided online. They come pre-installed with some versions of Python, such as Anaconda. If they aren't pre-installed, you can use programs like `pip` to install them. See [here](https://packaging.python.org/tutorials/installing-packages/) for information about pip."
   ]
  },
  {
   "cell_type": "markdown",
   "metadata": {},
   "source": [
    "### numpy\n",
    "\n",
    "Numpy provides functions for dealing with numerical data efficiently in Python. While Python does already provide good mathematical functionality out of the box, numpy is highly efficient at things like multiplying matrices and dealing with huge arrays of data."
   ]
  },
  {
   "cell_type": "code",
   "execution_count": 15,
   "metadata": {},
   "outputs": [
    {
     "name": "stdout",
     "output_type": "stream",
     "text": [
      "[[5 2 9]\n",
      " [3 1 2]\n",
      " [8 8 3]]\n"
     ]
    }
   ],
   "source": [
    "import numpy\n",
    "\n",
    "# Create a matrix.\n",
    "A = numpy.array([[5,2,9],[3,1,2],[8,8,3]])\n",
    "\n",
    "print(A)"
   ]
  },
  {
   "cell_type": "code",
   "execution_count": 16,
   "metadata": {},
   "outputs": [
    {
     "name": "stdout",
     "output_type": "stream",
     "text": [
      "[5 2 9]\n",
      "[5 3 8]\n",
      "8\n",
      "[[103  84  76]\n",
      " [ 34  23  35]\n",
      " [ 88  48  97]]\n"
     ]
    }
   ],
   "source": [
    "# Access the first row of A.\n",
    "print(A[0])\n",
    "\n",
    "# Access the first column of A.\n",
    "print(A[:,0])\n",
    "\n",
    "# Access the second element of the third row of A.\n",
    "print(A[2][1])\n",
    "\n",
    "# Square A.\n",
    "print(numpy.matmul(A,A))"
   ]
  },
  {
   "cell_type": "code",
   "execution_count": 17,
   "metadata": {},
   "outputs": [
    {
     "name": "stdout",
     "output_type": "stream",
     "text": [
      "[0.16016564 0.93871216 0.90648604 0.70680759 0.14447783 0.75262064\n",
      " 0.99745915 0.23329621 0.60226221 0.57846507]\n",
      "[4.97477229 4.85849842 5.09728682 4.97306761 4.9631231  5.16656597\n",
      " 4.95747996 5.04085282 5.01458421 4.94272473]\n"
     ]
    }
   ],
   "source": [
    "# Create list of ten random values between 0 (inclusive) and 1 (exclusive).\n",
    "r = numpy.random.rand(10)\n",
    "print(r)\n",
    "\n",
    "# Create list of ten random normal values with mean 5 and standard deviation 0.1.\n",
    "r = numpy.random.normal(5, 0.1, 10)\n",
    "print(r)"
   ]
  },
  {
   "cell_type": "markdown",
   "metadata": {},
   "source": [
    "Numpy is usually used as the basis for other modules, like matplotlib.pyplot which plots data for us."
   ]
  },
  {
   "cell_type": "markdown",
   "metadata": {},
   "source": [
    "### matplotlib.pyplot"
   ]
  },
  {
   "cell_type": "markdown",
   "metadata": {},
   "source": [
    "`matplotlib` is the most popular plotting (graphing) package for Python.\n",
    "Here we see an example of using it to plot the curve $ y = x^3 $."
   ]
  },
  {
   "cell_type": "code",
   "execution_count": 18,
   "metadata": {},
   "outputs": [
    {
     "data": {
      "text/plain": [
       "[<matplotlib.lines.Line2D at 0x1e919cf9a90>]"
      ]
     },
     "execution_count": 18,
     "metadata": {},
     "output_type": "execute_result"
    }
   ],
   "source": [
    "import matplotlib.pyplot as p\n",
    "\n",
    "# Create a numpy array containing the numbers from 0 to 99 inclusive.\n",
    "x = numpy.array(range(100))\n",
    "# Create another numpy array from x, by squaring each element in turn.\n",
    "y = x**2\n",
    "\n",
    "# Plot x versus y.\n",
    "p.plot(x, y)"
   ]
  },
  {
   "cell_type": "markdown",
   "metadata": {},
   "source": [
    "There a couple of things to notice here.\n",
    "First, there's a dot in `matplotlib.pyplot`.\n",
    "The dot means that `matplotlib` is a package, and `pyplot` is a module within that package.\n",
    "It's not important for us to dwell on this.\n",
    "In use, we treat it much the same as if `matplotlib.pyplot` was the module.\n",
    "\n",
    "Secondly, the after the `import matplotlib.pyplot` we add `as p`.\n",
    "This is a handy way of avoiding having to type `matplotlib.pyplot` every time you want to use a function in it.\n",
    "It lets us, for example, type `p.plot()` instead of `matplotlin.pyplot.plot()`.\n",
    "It basically gives us a nickname for the module."
   ]
  },
  {
   "cell_type": "markdown",
   "metadata": {},
   "source": [
    "## Further reading\n",
    "\n",
    "As you learn more about Python, and begin to apply it to real-world problems, you will find yourself relying on modules and libraries written by other people.\n",
    "It's often best not to try to write much code from scratch yourself, as packages like `numpy` and `matplotlib` have been written by many people with a good deal of programming and mathematical expertise.\n",
    "They've been built up over several years, sometimes decades, and are usually heavily informed by research in these areas.\n",
    "Rather, for a given programming task, you should try to use packages like these as your building blocks.\n",
    "In future you might consider contributing to their development, as they are open source.\n",
    "For now, it's easy to get started with them, as there is a huge amount of beginner's literature available online, such as the following."
   ]
  },
  {
   "cell_type": "markdown",
   "metadata": {},
   "source": [
    "1. [Pyplot tutorial (https://matplotlib.org/users/pyplot_tutorial.html)](https://matplotlib.org/users/pyplot_tutorial.html)\n",
    "2. [Numpy Quickstart tutorial (https://docs.scipy.org/doc/numpy-dev/user/quickstart.html)](https://docs.scipy.org/doc/numpy-dev/user/quickstart.html)\n",
    "3. [Python numpy tutorial (http://cs231n.github.io/python-numpy-tutorial/)](http://cs231n.github.io/python-numpy-tutorial/)\n",
    "4. [Scipy lecture notes (http://www.scipy-lectures.org/intro/matplotlib/matplotlib.html)](http://www.scipy-lectures.org/intro/matplotlib/matplotlib.html)"
   ]
  }
 ],
 "metadata": {
  "kernelspec": {
   "display_name": "Python 3",
   "language": "python",
   "name": "python3"
  },
  "language_info": {
   "codemirror_mode": {
    "name": "ipython",
    "version": 3
   },
   "file_extension": ".py",
   "mimetype": "text/x-python",
   "name": "python",
   "nbconvert_exporter": "python",
   "pygments_lexer": "ipython3",
   "version": "3.6.4"
  }
 },
 "nbformat": 4,
 "nbformat_minor": 2
}
